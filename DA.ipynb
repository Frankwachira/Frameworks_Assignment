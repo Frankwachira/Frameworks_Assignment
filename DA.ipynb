{
 "cells": [
  {
   "cell_type": "code",
   "execution_count": null,
   "id": "d12f7f41",
   "metadata": {},
   "outputs": [],
   "source": [
    "#load data from a CSV file using pandas\n",
    "import pandas as pd\n",
    "\n",
    "df = pd.read_csv('metadata.csv', low_memory=False)"
   ]
  },
  {
   "cell_type": "code",
   "execution_count": null,
   "id": "59e6464d",
   "metadata": {},
   "outputs": [],
   "source": [
    "#explore data\n",
    "print(df.head())          # Preview first few rows\n",
    "print(df.shape)           # Dimensions\n",
    "print(df.info())          # Data types and non-null counts\n",
    "print(df.isnull().sum())  # Missing values\n",
    "print(df.describe())      # Stats for numerical columns"
   ]
  },
  {
   "cell_type": "code",
   "execution_count": null,
   "id": "df17f9f2",
   "metadata": {},
   "outputs": [],
   "source": [
    "df_cleaned = df.dropna(subset=['title', 'abstract', 'publish_time']).copy()\n",
    "df_cleaned['publish_time'] = pd.to_datetime(df_cleaned['publish_time'], errors='coerce')\n",
    "df_cleaned['year'] = df_cleaned['publish_time'].dt.year"
   ]
  },
  {
   "cell_type": "code",
   "execution_count": null,
   "id": "95c94b3f",
   "metadata": {},
   "outputs": [],
   "source": [
    "# Add a new column for the word count of the abstract\n",
    "df_cleaned.loc[:, 'abstract_word_count'] = df_cleaned['abstract'].apply(lambda x: len(str(x).split()))"
   ]
  },
  {
   "cell_type": "code",
   "execution_count": null,
   "id": "bc99d6dc",
   "metadata": {},
   "outputs": [],
   "source": [
    "#Publications by Year\n",
    "\n",
    "year_counts = df_cleaned['year'].value_counts().sort_index()\n",
    "year_counts.plot(kind='bar', title='Publications by Year')"
   ]
  },
  {
   "cell_type": "code",
   "execution_count": null,
   "id": "c6125ab7",
   "metadata": {},
   "outputs": [],
   "source": [
    "#top journals\n",
    "top_journals = df_cleaned['journal'].value_counts().head(10)\n",
    "top_journals.plot(kind='barh', title='Top Publishing Journals')"
   ]
  },
  {
   "cell_type": "code",
   "execution_count": null,
   "id": "462e8a7f",
   "metadata": {},
   "outputs": [],
   "source": [
    "#Word Frequency in Titles\n",
    "from collections import Counter\n",
    "import re\n",
    "\n",
    "words = ' '.join(df_cleaned['title'].dropna()).lower()\n",
    "words = re.findall(r'\\b\\w+\\b', words)\n",
    "common_words = Counter(words).most_common(20)\n",
    "\n",
    "# Convert to DataFrame for plotting\n",
    "word_df = pd.DataFrame(common_words, columns=['word', 'count'])\n",
    "word_df.plot.bar(x='word', y='count', title='Most Frequent Words in Titles')"
   ]
  },
  {
   "cell_type": "code",
   "execution_count": null,
   "id": "85452403",
   "metadata": {},
   "outputs": [],
   "source": [
    "#Word Cloud\n",
    "from wordcloud import WordCloud\n",
    "import matplotlib.pyplot as plt\n",
    "\n",
    "text = ' '.join(df_cleaned['title'].dropna())\n",
    "wordcloud = WordCloud(width=800, height=400, background_color='white').generate(text)\n",
    "\n",
    "plt.figure(figsize=(10, 5))\n",
    "plt.imshow(wordcloud, interpolation='bilinear')\n",
    "plt.axis('off')\n",
    "plt.title('Word Cloud of Paper Titles')\n",
    "plt.show()"
   ]
  },
  {
   "cell_type": "code",
   "execution_count": null,
   "id": "71d4b135",
   "metadata": {},
   "outputs": [],
   "source": [
    "#Distribution by Source\n",
    "df_cleaned['source_x'].value_counts().plot(kind='pie', autopct='%1.1f%%', title='Distribution by Source')"
   ]
  }
 ],
 "metadata": {
  "kernelspec": {
   "display_name": "Python 3",
   "language": "python",
   "name": "python3"
  },
  "language_info": {
   "codemirror_mode": {
    "name": "ipython",
    "version": 3
   },
   "file_extension": ".py",
   "mimetype": "text/x-python",
   "name": "python",
   "nbconvert_exporter": "python",
   "pygments_lexer": "ipython3",
   "version": "3.13.7"
  }
 },
 "nbformat": 4,
 "nbformat_minor": 5
}
